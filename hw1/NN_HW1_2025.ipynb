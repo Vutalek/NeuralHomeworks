{
  "cells": [
    {
      "cell_type": "markdown",
      "id": "YfPhAJr3jOkh",
      "metadata": {
        "id": "YfPhAJr3jOkh"
      },
      "source": [
        "# HW 1"
      ]
    },
    {
      "cell_type": "code",
      "execution_count": 1,
      "id": "8cc148dc-d83d-4c32-bbb0-3ffd82ba4e98",
      "metadata": {
        "id": "8cc148dc-d83d-4c32-bbb0-3ffd82ba4e98"
      },
      "outputs": [],
      "source": [
        "import numpy as np\n",
        "import pandas as pd\n",
        "import matplotlib.pyplot as plt\n",
        "\n",
        "from sklearn.linear_model import LinearRegression\n",
        "from sklearn.model_selection import train_test_split\n",
        "from sklearn.metrics import r2_score\n",
        "from sklearn.preprocessing import MinMaxScaler\n",
        "\n",
        "%matplotlib inline"
      ]
    },
    {
      "cell_type": "markdown",
      "id": "e3a06e1e-3bc0-4667-84f3-7e86698c3737",
      "metadata": {
        "id": "e3a06e1e-3bc0-4667-84f3-7e86698c3737"
      },
      "source": [
        "# Загружаем выборку Diamonds"
      ]
    },
    {
      "cell_type": "markdown",
      "id": "sI-cvLDCjsua",
      "metadata": {
        "id": "sI-cvLDCjsua"
      },
      "source": [
        "На данной выборке можно проверять работоспособность своего решения"
      ]
    },
    {
      "cell_type": "markdown",
      "id": "c731a143-3dc9-43e7-96f5-b1eff9093345",
      "metadata": {
        "id": "c731a143-3dc9-43e7-96f5-b1eff9093345"
      },
      "source": [
        "1. PRICE: price in US dollars (326-18,823)\n",
        "2. CARAT: weight of the diamond (0.2--5.01)\n",
        "3. CUT: quality of the cut (Fair, Good, Very Good, Premium, Ideal)\n",
        "4. COLOR: diamond colour, from J (worst) to D (best)\n",
        "5. CLARITY: a measurement of how clear the diamond is (I1 (worst), SI2, SI1, VS2, VS1, VVS2, VVS1, IF (best))\n",
        "6. X: length in mm (0--10.74)\n",
        "7. Y: width in mm (0--58.9)\n",
        "8. Z: depth in mm (0--31.8)\n",
        "9. DEPTH: total depth percentage = z / mean(x, y) = 2 * z / (x + y) (43--79)\n",
        "10. TABLE: width of top of diamond relative to widest point (43--95)"
      ]
    },
    {
      "cell_type": "code",
      "execution_count": 2,
      "id": "0f24cf86-653a-422b-9df1-8029fdccf153",
      "metadata": {
        "id": "0f24cf86-653a-422b-9df1-8029fdccf153"
      },
      "outputs": [],
      "source": [
        "diamonds_df = pd.read_csv('diamonds.csv')"
      ]
    },
    {
      "cell_type": "code",
      "execution_count": 3,
      "id": "70d9ccfe-e1cf-4c90-a5ab-40ae0852f1ce",
      "metadata": {
        "colab": {
          "base_uri": "https://localhost:8080/",
          "height": 204
        },
        "id": "70d9ccfe-e1cf-4c90-a5ab-40ae0852f1ce",
        "outputId": "48caecef-fcb9-440b-dd8b-3e4189ff9708"
      },
      "outputs": [
        {
          "data": {
            "application/vnd.microsoft.datawrangler.viewer.v0+json": {
              "columns": [
                {
                  "name": "index",
                  "rawType": "int64",
                  "type": "integer"
                },
                {
                  "name": "Unnamed: 0",
                  "rawType": "int64",
                  "type": "integer"
                },
                {
                  "name": "carat",
                  "rawType": "float64",
                  "type": "float"
                },
                {
                  "name": "cut",
                  "rawType": "object",
                  "type": "string"
                },
                {
                  "name": "color",
                  "rawType": "object",
                  "type": "string"
                },
                {
                  "name": "clarity",
                  "rawType": "object",
                  "type": "string"
                },
                {
                  "name": "depth",
                  "rawType": "float64",
                  "type": "float"
                },
                {
                  "name": "table",
                  "rawType": "float64",
                  "type": "float"
                },
                {
                  "name": "price",
                  "rawType": "int64",
                  "type": "integer"
                },
                {
                  "name": "x",
                  "rawType": "float64",
                  "type": "float"
                },
                {
                  "name": "y",
                  "rawType": "float64",
                  "type": "float"
                },
                {
                  "name": "z",
                  "rawType": "float64",
                  "type": "float"
                }
              ],
              "ref": "4b1977d5-0e19-4e09-83d1-208a4a16fcf1",
              "rows": [
                [
                  "0",
                  "1",
                  "0.23",
                  "Ideal",
                  "E",
                  "SI2",
                  "61.5",
                  "55.0",
                  "326",
                  "3.95",
                  "3.98",
                  "2.43"
                ],
                [
                  "1",
                  "2",
                  "0.21",
                  "Premium",
                  "E",
                  "SI1",
                  "59.8",
                  "61.0",
                  "326",
                  "3.89",
                  "3.84",
                  "2.31"
                ],
                [
                  "2",
                  "3",
                  "0.23",
                  "Good",
                  "E",
                  "VS1",
                  "56.9",
                  "65.0",
                  "327",
                  "4.05",
                  "4.07",
                  "2.31"
                ],
                [
                  "3",
                  "4",
                  "0.29",
                  "Premium",
                  "I",
                  "VS2",
                  "62.4",
                  "58.0",
                  "334",
                  "4.2",
                  "4.23",
                  "2.63"
                ],
                [
                  "4",
                  "5",
                  "0.31",
                  "Good",
                  "J",
                  "SI2",
                  "63.3",
                  "58.0",
                  "335",
                  "4.34",
                  "4.35",
                  "2.75"
                ]
              ],
              "shape": {
                "columns": 11,
                "rows": 5
              }
            },
            "text/html": [
              "<div>\n",
              "<style scoped>\n",
              "    .dataframe tbody tr th:only-of-type {\n",
              "        vertical-align: middle;\n",
              "    }\n",
              "\n",
              "    .dataframe tbody tr th {\n",
              "        vertical-align: top;\n",
              "    }\n",
              "\n",
              "    .dataframe thead th {\n",
              "        text-align: right;\n",
              "    }\n",
              "</style>\n",
              "<table border=\"1\" class=\"dataframe\">\n",
              "  <thead>\n",
              "    <tr style=\"text-align: right;\">\n",
              "      <th></th>\n",
              "      <th>Unnamed: 0</th>\n",
              "      <th>carat</th>\n",
              "      <th>cut</th>\n",
              "      <th>color</th>\n",
              "      <th>clarity</th>\n",
              "      <th>depth</th>\n",
              "      <th>table</th>\n",
              "      <th>price</th>\n",
              "      <th>x</th>\n",
              "      <th>y</th>\n",
              "      <th>z</th>\n",
              "    </tr>\n",
              "  </thead>\n",
              "  <tbody>\n",
              "    <tr>\n",
              "      <th>0</th>\n",
              "      <td>1</td>\n",
              "      <td>0.23</td>\n",
              "      <td>Ideal</td>\n",
              "      <td>E</td>\n",
              "      <td>SI2</td>\n",
              "      <td>61.5</td>\n",
              "      <td>55.0</td>\n",
              "      <td>326</td>\n",
              "      <td>3.95</td>\n",
              "      <td>3.98</td>\n",
              "      <td>2.43</td>\n",
              "    </tr>\n",
              "    <tr>\n",
              "      <th>1</th>\n",
              "      <td>2</td>\n",
              "      <td>0.21</td>\n",
              "      <td>Premium</td>\n",
              "      <td>E</td>\n",
              "      <td>SI1</td>\n",
              "      <td>59.8</td>\n",
              "      <td>61.0</td>\n",
              "      <td>326</td>\n",
              "      <td>3.89</td>\n",
              "      <td>3.84</td>\n",
              "      <td>2.31</td>\n",
              "    </tr>\n",
              "    <tr>\n",
              "      <th>2</th>\n",
              "      <td>3</td>\n",
              "      <td>0.23</td>\n",
              "      <td>Good</td>\n",
              "      <td>E</td>\n",
              "      <td>VS1</td>\n",
              "      <td>56.9</td>\n",
              "      <td>65.0</td>\n",
              "      <td>327</td>\n",
              "      <td>4.05</td>\n",
              "      <td>4.07</td>\n",
              "      <td>2.31</td>\n",
              "    </tr>\n",
              "    <tr>\n",
              "      <th>3</th>\n",
              "      <td>4</td>\n",
              "      <td>0.29</td>\n",
              "      <td>Premium</td>\n",
              "      <td>I</td>\n",
              "      <td>VS2</td>\n",
              "      <td>62.4</td>\n",
              "      <td>58.0</td>\n",
              "      <td>334</td>\n",
              "      <td>4.20</td>\n",
              "      <td>4.23</td>\n",
              "      <td>2.63</td>\n",
              "    </tr>\n",
              "    <tr>\n",
              "      <th>4</th>\n",
              "      <td>5</td>\n",
              "      <td>0.31</td>\n",
              "      <td>Good</td>\n",
              "      <td>J</td>\n",
              "      <td>SI2</td>\n",
              "      <td>63.3</td>\n",
              "      <td>58.0</td>\n",
              "      <td>335</td>\n",
              "      <td>4.34</td>\n",
              "      <td>4.35</td>\n",
              "      <td>2.75</td>\n",
              "    </tr>\n",
              "  </tbody>\n",
              "</table>\n",
              "</div>"
            ],
            "text/plain": [
              "   Unnamed: 0  carat      cut color clarity  depth  table  price     x     y  \\\n",
              "0           1   0.23    Ideal     E     SI2   61.5   55.0    326  3.95  3.98   \n",
              "1           2   0.21  Premium     E     SI1   59.8   61.0    326  3.89  3.84   \n",
              "2           3   0.23     Good     E     VS1   56.9   65.0    327  4.05  4.07   \n",
              "3           4   0.29  Premium     I     VS2   62.4   58.0    334  4.20  4.23   \n",
              "4           5   0.31     Good     J     SI2   63.3   58.0    335  4.34  4.35   \n",
              "\n",
              "      z  \n",
              "0  2.43  \n",
              "1  2.31  \n",
              "2  2.31  \n",
              "3  2.63  \n",
              "4  2.75  "
            ]
          },
          "execution_count": 3,
          "metadata": {},
          "output_type": "execute_result"
        }
      ],
      "source": [
        "diamonds_df.head()"
      ]
    },
    {
      "cell_type": "code",
      "execution_count": 4,
      "id": "fad21c95-f542-44ec-8f06-8f57fd42ddef",
      "metadata": {
        "colab": {
          "base_uri": "https://localhost:8080/",
          "height": 430
        },
        "id": "fad21c95-f542-44ec-8f06-8f57fd42ddef",
        "outputId": "cda66a09-590c-45b0-9ed1-1699bfddaaf9"
      },
      "outputs": [
        {
          "data": {
            "image/png": "[encoded data removed]",
            "text/plain": [
              "<Figure size 640x480 with 1 Axes>"
            ]
          },
          "metadata": {},
          "output_type": "display_data"
        }
      ],
      "source": [
        "plt.hist(diamonds_df['price'], bins=100)\n",
        "plt.grid()\n",
        "plt.show()"
      ]
    },
    {
      "cell_type": "markdown",
      "id": "17ac44bb-86c7-424a-8b9b-0a21bf490683",
      "metadata": {
        "id": "17ac44bb-86c7-424a-8b9b-0a21bf490683"
      },
      "source": [
        "# Подготовка данных"
      ]
    },
    {
      "cell_type": "code",
      "execution_count": 5,
      "id": "e19945ea-cecf-481e-a28b-3f9c11001918",
      "metadata": {
        "id": "e19945ea-cecf-481e-a28b-3f9c11001918"
      },
      "outputs": [],
      "source": [
        "features = ['carat', 'cut', 'color', 'clarity', 'depth', 'table', 'x', 'y', 'z']\n",
        "target = ['price']"
      ]
    },
    {
      "cell_type": "code",
      "execution_count": 6,
      "id": "fbc43eb0-e77f-4765-8b0e-b9052c093855",
      "metadata": {
        "id": "fbc43eb0-e77f-4765-8b0e-b9052c093855"
      },
      "outputs": [],
      "source": [
        "cut_transform = {'Fair': 0, 'Good': 1, 'Very Good': 2, 'Premium': 3, 'Ideal': 4}\n",
        "clarity_transform = {'I1': 0, 'SI2': 1, 'SI1': 2, 'VS2': 3, 'VS1': 4, 'VVS2': 5, 'VVS1': 6, 'IF': 7}\n",
        "color_transorm = {'D': 0, 'E': 1, 'F': 2, 'G': 3, 'H': 4, 'I': 5, 'J': 6}"
      ]
    },
    {
      "cell_type": "code",
      "execution_count": 7,
      "id": "6f82b34f-9ffc-478f-a103-b2cbbca49a94",
      "metadata": {
        "id": "6f82b34f-9ffc-478f-a103-b2cbbca49a94"
      },
      "outputs": [],
      "source": [
        "diamonds_df['cut'] = diamonds_df['cut'].apply(lambda x: cut_transform.get(x))\n",
        "diamonds_df['color'] = diamonds_df['color'].apply(lambda x: color_transorm.get(x))\n",
        "diamonds_df['clarity'] = diamonds_df['clarity'].apply(lambda x: clarity_transform.get(x))"
      ]
    },
    {
      "cell_type": "code",
      "execution_count": 8,
      "id": "8e5fa82b-92ed-4e79-adf2-422204b45e82",
      "metadata": {
        "id": "8e5fa82b-92ed-4e79-adf2-422204b45e82"
      },
      "outputs": [],
      "source": [
        "X = diamonds_df[features].copy().values\n",
        "y = diamonds_df[target].values"
      ]
    },
    {
      "cell_type": "code",
      "execution_count": 9,
      "id": "64c11d68-dc5c-4753-9cc4-3cc4e136f3cb",
      "metadata": {
        "id": "64c11d68-dc5c-4753-9cc4-3cc4e136f3cb"
      },
      "outputs": [],
      "source": [
        "X_train, X_test, y_train, y_test = train_test_split(X, y, random_state=47, test_size=0.3)"
      ]
    },
    {
      "cell_type": "code",
      "execution_count": 10,
      "id": "rGU9tSuwk3Lp",
      "metadata": {
        "id": "rGU9tSuwk3Lp"
      },
      "outputs": [],
      "source": [
        "scaler = MinMaxScaler()\n",
        "X_train = scaler.fit_transform(X_train)\n",
        "X_test = scaler.transform(X_test)"
      ]
    },
    {
      "cell_type": "markdown",
      "id": "3b743ed1-d0cf-485d-b8f2-8c71fc174e8b",
      "metadata": {
        "id": "3b743ed1-d0cf-485d-b8f2-8c71fc174e8b"
      },
      "source": [
        "# Обучаем модель линейной регрессии"
      ]
    },
    {
      "cell_type": "code",
      "execution_count": 11,
      "id": "3N2iJEIuxW0H",
      "metadata": {
        "id": "3N2iJEIuxW0H"
      },
      "outputs": [],
      "source": [
        "reg = LinearRegression().fit(X_train, y_train)"
      ]
    },
    {
      "cell_type": "code",
      "execution_count": 12,
      "id": "f968e336-4049-41b2-81d1-4c24f0969bbb",
      "metadata": {
        "id": "f968e336-4049-41b2-81d1-4c24f0969bbb"
      },
      "outputs": [],
      "source": [
        "y_pred = reg.predict(X_test)"
      ]
    },
    {
      "cell_type": "code",
      "execution_count": 13,
      "id": "0952990a-b3d6-4da4-9cc6-1ab3a7a25ac7",
      "metadata": {
        "id": "0952990a-b3d6-4da4-9cc6-1ab3a7a25ac7"
      },
      "outputs": [],
      "source": [
        "score = r2_score(y_pred, y_test)"
      ]
    },
    {
      "cell_type": "code",
      "execution_count": 14,
      "id": "f89c3bbd-0a3a-48ac-b1ab-b75dc0c5bcce",
      "metadata": {
        "colab": {
          "base_uri": "https://localhost:8080/",
          "height": 452
        },
        "id": "f89c3bbd-0a3a-48ac-b1ab-b75dc0c5bcce",
        "outputId": "587de3bd-b38b-4de9-d156-ac034b9dc075"
      },
      "outputs": [
        {
          "data": {
            "image/png": "[encoded data removed]",
            "text/plain": [
              "<Figure size 640x480 with 1 Axes>"
            ]
          },
          "metadata": {},
          "output_type": "display_data"
        }
      ],
      "source": [
        "plt.title(f'R2: {str(score)[:5]}')\n",
        "plt.hist(y_pred.reshape(1, -1)[0], bins=100, label='PREDICTION')\n",
        "plt.hist(y_test.reshape(1, -1)[0], bins=100, label='GT')\n",
        "plt.legend()\n",
        "plt.grid()\n",
        "plt.show()"
      ]
    },
    {
      "cell_type": "code",
      "execution_count": 15,
      "id": "a7000e52",
      "metadata": {},
      "outputs": [
        {
          "data": {
            "text/plain": [
              "array([2986.54927596])"
            ]
          },
          "execution_count": 15,
          "metadata": {},
          "output_type": "execute_result"
        }
      ],
      "source": [
        "reg.intercept_"
      ]
    },
    {
      "cell_type": "code",
      "execution_count": 16,
      "id": "ab9fcdfe",
      "metadata": {},
      "outputs": [
        {
          "data": {
            "text/plain": [
              "array([[51148.25187875,   472.47472887, -1974.69216261,  3530.7720608 ,\n",
              "        -2905.6766965 , -1449.95988869, -8721.95669848,  1098.0443115 ,\n",
              "         -324.00144698]])"
            ]
          },
          "execution_count": 16,
          "metadata": {},
          "output_type": "execute_result"
        }
      ],
      "source": [
        "reg.coef_"
      ]
    },
    {
      "cell_type": "markdown",
      "id": "6nKJT7VRlIeU",
      "metadata": {
        "id": "6nKJT7VRlIeU"
      },
      "source": [
        "# Задание 1: Реализация Gradient Descent для модели линейной регрессии"
      ]
    },
    {
      "cell_type": "markdown",
      "id": "7UpV6l4clfwC",
      "metadata": {
        "id": "7UpV6l4clfwC"
      },
      "source": [
        "Ниже представлен шаблон кода, который необходимо дополнить, реализовав все указанные методы, и самостоятельно протестировать корректность решения. Можно (и даже нужно) добавлять свои методы для бОльшей читабельности кода\n",
        "\n",
        "Достаточно будет, чтобы код работал для случая, когда X и y - np.ndarray\n",
        "\n",
        "Внутри класса запрещается использовать сторонние библиотеки, кроме numpy"
      ]
    },
    {
      "cell_type": "code",
      "execution_count": 17,
      "id": "ohUWWybdlHYw",
      "metadata": {
        "id": "ohUWWybdlHYw"
      },
      "outputs": [],
      "source": [
        "class LinearRegressorGD:\n",
        "    \"\"\"\n",
        "    Линейная регрессия с использованием Gradient Descent\n",
        "    \"\"\"\n",
        "\n",
        "    def __init__(self, learning_rate=0.01, n_iter=1000):\n",
        "        \"\"\"\n",
        "        Конструктор класса\n",
        "\n",
        "        Параметры:\n",
        "            learning_rate (float): Скорость обучения\n",
        "            n_iter (int): Количество итераций градиентного спуска\n",
        "        \"\"\"\n",
        "        self.learning_rate = learning_rate\n",
        "        self.n_iter = n_iter\n",
        "        # в начале биас, потом коэффициенты\n",
        "        self._params = np.array([])\n",
        "        self.loss_history = []\n",
        "        pass\n",
        "\n",
        "    def __loss(self, X: np.ndarray, y: np.ndarray) -> np.float64:\n",
        "        pred = self.predict(X)\n",
        "        diff = pred - y\n",
        "        return np.mean(diff**2, dtype=np.float64)\n",
        "\n",
        "    def __grad(self, X: np.ndarray, y: np.ndarray) -> np.ndarray:\n",
        "        size = X.shape[0]\n",
        "        pred = self.predict(X)\n",
        "        diff = pred - y\n",
        "        bias_col = np.ones((X.shape[0],))[:, np.newaxis]\n",
        "        X_with_bias = np.hstack((bias_col, X))\n",
        "        return (2 / size) * (X_with_bias.T @ diff)\n",
        "\n",
        "    def fit(self, X, y):\n",
        "        \"\"\"\n",
        "        Обучение модели на обучающей выборке с использованием\n",
        "        градиентного спуска\n",
        "\n",
        "        Параметры:\n",
        "            X (np.ndarray): Матрица признаков размера (n_samples, n_features)\n",
        "            y (np.ndarray): Вектор таргета длины n_samples\n",
        "        \"\"\"\n",
        "        y = y.ravel()\n",
        "        self._params = np.zeros((X.shape[1]+1,))\n",
        "        for _ in range(self.n_iter):\n",
        "            grad = self.__grad(X, y)\n",
        "            self._params = self._params - (self.learning_rate * grad)\n",
        "            self.loss_history.append(self.__loss(X, y))\n",
        "        return self\n",
        "\n",
        "    def predict(self, X: np.ndarray) -> np.ndarray:\n",
        "        \"\"\"\n",
        "        Получение предсказаний обученной модели\n",
        "\n",
        "        Параметры:\n",
        "            X (np.ndarray): Матрица признаков\n",
        "\n",
        "        Возвращает:\n",
        "            np.ndarray: Предсказание для каждого элемента из X\n",
        "        \"\"\"\n",
        "        bias_col = np.ones((X.shape[0],))[:, np.newaxis]\n",
        "        X_with_bias = np.hstack((bias_col, X))\n",
        "        return X_with_bias @ self._params\n",
        "\n",
        "    def get_params(self):\n",
        "        \"\"\"\n",
        "        Возвращает обученные параметры модели\n",
        "        \"\"\"\n",
        "        return self._params\n"
      ]
    },
    {
      "cell_type": "markdown",
      "id": "975301b4",
      "metadata": {},
      "source": [
        "Обучим нашу модель"
      ]
    },
    {
      "cell_type": "code",
      "execution_count": 18,
      "id": "fafa6f1f",
      "metadata": {},
      "outputs": [],
      "source": [
        "test = LinearRegressorGD(learning_rate=0.1, n_iter=1000).fit(X_train, y_train)"
      ]
    },
    {
      "cell_type": "markdown",
      "id": "169875fb",
      "metadata": {},
      "source": [
        "История лосса по эпохам"
      ]
    },
    {
      "cell_type": "code",
      "execution_count": 19,
      "id": "0f833645",
      "metadata": {},
      "outputs": [
        {
          "data": {
            "image/png": "[encoded data removed]",
            "text/plain": [
              "<Figure size 640x480 with 1 Axes>"
            ]
          },
          "metadata": {},
          "output_type": "display_data"
        }
      ],
      "source": [
        "plt.plot(list(range(len(test.loss_history))), test.loss_history, color=\"purple\")\n",
        "plt.grid()\n",
        "plt.show()"
      ]
    },
    {
      "cell_type": "markdown",
      "id": "4b496d8f",
      "metadata": {},
      "source": [
        "Строим ту же диаграмму для сравнения"
      ]
    },
    {
      "cell_type": "code",
      "execution_count": 20,
      "id": "b2298cea",
      "metadata": {},
      "outputs": [],
      "source": [
        "y_pred = test.predict(X_test)"
      ]
    },
    {
      "cell_type": "code",
      "execution_count": 21,
      "id": "220cca5a",
      "metadata": {},
      "outputs": [],
      "source": [
        "score = r2_score(y_pred, y_test)"
      ]
    },
    {
      "cell_type": "code",
      "execution_count": 22,
      "id": "f6ed7dc3",
      "metadata": {},
      "outputs": [
        {
          "data": {
            "image/png": "[encoded data removed]",
            "text/plain": [
              "<Figure size 640x480 with 1 Axes>"
            ]
          },
          "metadata": {},
          "output_type": "display_data"
        }
      ],
      "source": [
        "plt.title(f'R2: {str(score)[:5]}')\n",
        "plt.hist(y_pred.reshape(1, -1)[0], bins=100, label='PREDICTION')\n",
        "plt.hist(y_test.reshape(1, -1)[0], bins=100, label='GT')\n",
        "plt.legend()\n",
        "plt.grid()\n",
        "plt.show()"
      ]
    },
    {
      "cell_type": "markdown",
      "id": "9c0f5644",
      "metadata": {},
      "source": [
        "обученные параметры"
      ]
    },
    {
      "cell_type": "code",
      "execution_count": 23,
      "id": "efc81801",
      "metadata": {},
      "outputs": [
        {
          "data": {
            "text/plain": [
              "array([-6694.22778897, 20604.59521546,   187.77976205, -1450.59726513,\n",
              "        3100.1686686 , -3135.6326418 , -1519.92593026, 16028.03419693,\n",
              "        2922.21394935,  3326.49445197])"
            ]
          },
          "execution_count": 23,
          "metadata": {},
          "output_type": "execute_result"
        }
      ],
      "source": [
        "test.get_params()"
      ]
    },
    {
      "cell_type": "markdown",
      "id": "ebkQuLxTpTmF",
      "metadata": {
        "id": "ebkQuLxTpTmF"
      },
      "source": [
        "# Задание 2: Реализация backpropagation для MLP"
      ]
    },
    {
      "cell_type": "markdown",
      "id": "2G7W8JLzpZRf",
      "metadata": {
        "id": "2G7W8JLzpZRf"
      },
      "source": [
        "Ниже представлен шаблон кода, который необходимо дополнить, реализовав все указанные методы, и самостоятельно протестировать корректность решения. Можно (и даже нужно) добавлять свои методы для бОльшей читабельности кода\n",
        "\n",
        "Достаточно будет, чтобы код работал для случая, когда X и y - np.ndarray\n",
        "\n",
        "В качестве функции активации нужно использовать Softmax\n",
        "\n",
        "Внутри класса запрещается использовать сторонние библиотеки, кроме numpy"
      ]
    },
    {
      "cell_type": "code",
      "execution_count": 24,
      "id": "mh30KL1jpZr5",
      "metadata": {
        "id": "mh30KL1jpZr5"
      },
      "outputs": [],
      "source": [
        "class MLPRegressor:\n",
        "    \"\"\"\n",
        "    Многослойный перцептрон (MLP) для задачи регрессии, использующий алгоритм\n",
        "    обратного распространения ошибки\n",
        "    \"\"\"\n",
        "\n",
        "    def __init__(self, hidden_layer_sizes=(100,), learning_rate=0.01, n_iter=100):\n",
        "        \"\"\"\n",
        "        Конструктор класса\n",
        "\n",
        "        Параметры:\n",
        "            hidden_layer_sizes (tuple): Кортеж, определяющий архитектуру\n",
        "        скрытых слоев. Например (100, 10) - два скрытых слоя, размером 100 и 10\n",
        "        нейронов, соответственно\n",
        "            learning_rate (float): Скорость обучения\n",
        "            n_iter (int): Количество итераций градиентного спуска\n",
        "        \"\"\"\n",
        "        self.hidden_layer_sizes = hidden_layer_sizes\n",
        "        self.layers = []\n",
        "        self.biases = []\n",
        "        self.learning_rate = learning_rate\n",
        "        self.n_iter = n_iter\n",
        "        self.forward_history = []\n",
        "        self.w_grad = []\n",
        "        self.b_grad = []\n",
        "        self.loss_history = []\n",
        "\n",
        "    def __loss(self, pred: np.ndarray, y: np.ndarray) -> np.float64:\n",
        "        diff = pred - y\n",
        "        return np.mean(diff**2, dtype=np.float64)\n",
        "    \n",
        "    def loss_grad(self, pred: np.ndarray, y: np.ndarray) -> np.ndarray:\n",
        "        diff = pred - y\n",
        "        return 2 * diff\n",
        "    \n",
        "    def sigmoid(self, X: np.ndarray):\n",
        "        return 1 / (1 + np.exp(-X))\n",
        "    \n",
        "    def sigmoid_derivative(self, X: np.ndarray):\n",
        "        return X * (1 - X)\n",
        "    \n",
        "    def initialize_matrices(self, X: np.ndarray, y: np.ndarray):\n",
        "        self.layers = []\n",
        "        self.biases = []\n",
        "        input_n = X.shape[1]\n",
        "        output_n = y.shape[1]\n",
        "        # input -> first hidden\n",
        "        self.layers.append(\n",
        "            np.random.normal(0, 0.1, (input_n, self.hidden_layer_sizes[0]))\n",
        "        )\n",
        "        self.biases.append(np.zeros((self.hidden_layer_sizes[0],)))\n",
        "        # other hidden layers\n",
        "        for i in range(len(self.hidden_layer_sizes)-1):\n",
        "            self.layers.append(\n",
        "                np.random.normal(0, 0.1, (\n",
        "                    self.hidden_layer_sizes[i],\n",
        "                    self.hidden_layer_sizes[i+1]\n",
        "                ))\n",
        "            )\n",
        "            self.biases.append(np.zeros((self.hidden_layer_sizes[i+1],)))\n",
        "        # last hiddent -> output\n",
        "        self.layers.append(\n",
        "            np.random.normal(0, 0.1, (self.hidden_layer_sizes[-1], output_n))\n",
        "        )\n",
        "        self.biases.append(np.zeros((output_n,)))\n",
        "\n",
        "    def forward(self, X: np.ndarray):\n",
        "        \"\"\"\n",
        "        Реализация forward pass\n",
        "\n",
        "        Параметры:\n",
        "            X (np.ndarray): Матрица признаков размера (n_samples, n_features)\n",
        "\n",
        "        Возвращает:\n",
        "            np.ndarray: Предсказания модели\n",
        "        \"\"\"\n",
        "        result = X.copy()\n",
        "        self.forward_history = []\n",
        "        self.forward_history.append(result)\n",
        "\n",
        "        # hidden layers (biased linear transform -> sigmoid)\n",
        "        for w, b in zip(self.layers[:-1], self.biases[:-1]):\n",
        "            result = self.sigmoid(result @ w + b)\n",
        "            self.forward_history.append(result)\n",
        "\n",
        "        # output layer (biased linear transform)\n",
        "        result = result @ self.layers[-1] + self.biases[-1]\n",
        "        self.forward_history.append(result)\n",
        "            \n",
        "        return result\n",
        "\n",
        "    def backward(self, X, y):\n",
        "        \"\"\"\n",
        "        Реализация backward pass\n",
        "\n",
        "        Возвращает:\n",
        "            X (np.ndarray): Матрица признаков размера (n_samples, n_features)\n",
        "            y (np.ndarray): Вектор таргета длины n_samples\n",
        "        \"\"\"\n",
        "        self.b_grad = []\n",
        "        self.w_grad = []\n",
        "        grad = self.loss_grad(self.forward_history[-1], y)\n",
        "\n",
        "        # output layer\n",
        "        # bias\n",
        "        self.b_grad.append(np.mean(grad, axis=0))\n",
        "        # matrix\n",
        "        self.w_grad.append(self.forward_history[-2].T @ grad / X.shape[0])\n",
        "        grad = grad @ self.layers[-1].T\n",
        "        \n",
        "        # other hidden layers\n",
        "        for i in range(len(self.forward_history)-2, 0, -1):\n",
        "            # sigmoid\n",
        "            grad = self.sigmoid_derivative(self.forward_history[i]) * grad\n",
        "            # bias\n",
        "            self.b_grad.append(np.mean(grad, axis=0))\n",
        "            # matrix\n",
        "            self.w_grad.append(self.forward_history[i - 1].T @ grad / X.shape[0])\n",
        "            grad = grad @ self.layers[i - 1].T\n",
        "        return X, y\n",
        "    \n",
        "    def fit(self, X: np.ndarray, y: np.ndarray):\n",
        "        \"\"\"\n",
        "        Обучение модели\n",
        "\n",
        "        Параметры:\n",
        "            X (np.ndarray): Матрица признаков размера (n_samples, n_features)\n",
        "            y (np.ndarray): Вектор таргета длины n_samples\n",
        "        \"\"\"\n",
        "        self.initialize_matrices(X, y)\n",
        "        for _ in range(self.n_iter):\n",
        "            # forward pass\n",
        "            self.forward(X)\n",
        "            # backward pass\n",
        "            self.backward(X, y)\n",
        "            # params update\n",
        "            self.b_grad = self.b_grad[::-1]\n",
        "            self.w_grad = self.w_grad[::-1]\n",
        "            for i in range(len(self.layers)):\n",
        "                self.layers[i] = self.layers[i] - self.learning_rate * self.w_grad[i]\n",
        "                self.biases[i] = self.biases[i] - self.learning_rate * self.b_grad[i]\n",
        "            self.loss_history.append(self.__loss(self.forward_history[-1], y))\n",
        "        return self\n",
        "\n",
        "    def predict(self, X: np.ndarray):\n",
        "        \"\"\"\n",
        "        Получение предсказаний обученной модели\n",
        "\n",
        "        Параметры:\n",
        "            X (np.ndarray): Матрица признаков\n",
        "\n",
        "        Возвращает:\n",
        "            np.ndarray: Предсказание для каждого элемента из X\n",
        "        \"\"\"\n",
        "        result = X.copy()\n",
        "        # hidden layers (biased linear transform -> sigmoid)\n",
        "        for w, b in zip(self.layers[:-1], self.biases[:-1]):\n",
        "            result = self.sigmoid(result @ w + b)\n",
        "        # output layer (biased linear transform)\n",
        "        result = result @ self.layers[-1] + self.biases[-1]\n",
        "        return result\n"
      ]
    },
    {
      "cell_type": "markdown",
      "id": "d4946797",
      "metadata": {},
      "source": [
        "Обучим нашу модель"
      ]
    },
    {
      "cell_type": "code",
      "execution_count": 25,
      "id": "61617474",
      "metadata": {},
      "outputs": [
        {
          "name": "stderr",
          "output_type": "stream",
          "text": [
            "C:\\Users\\HONOR\\AppData\\Local\\Temp\\ipykernel_20864\\778110189.py:37: RuntimeWarning: overflow encountered in exp\n",
            "  return 1 / (1 + np.exp(-X))\n"
          ]
        }
      ],
      "source": [
        "test = MLPRegressor(hidden_layer_sizes=(100, 50, 10), learning_rate=0.01, n_iter=100).fit(X_train, y_train)"
      ]
    },
    {
      "cell_type": "markdown",
      "id": "ee109583",
      "metadata": {},
      "source": [
        "Посмотрим на лосс по эпохам"
      ]
    },
    {
      "cell_type": "code",
      "execution_count": 26,
      "id": "3aafd00f",
      "metadata": {},
      "outputs": [
        {
          "data": {
            "image/png": "[encoded data removed]",
            "text/plain": [
              "<Figure size 640x480 with 1 Axes>"
            ]
          },
          "metadata": {},
          "output_type": "display_data"
        }
      ],
      "source": [
        "plt.plot(list(range(len(test.loss_history))), test.loss_history, color=\"purple\")\n",
        "plt.grid()\n",
        "plt.show()"
      ]
    },
    {
      "cell_type": "markdown",
      "id": "5df6d132",
      "metadata": {},
      "source": [
        "последние 20 лоссов"
      ]
    },
    {
      "cell_type": "code",
      "execution_count": 27,
      "id": "6aa1ae1a",
      "metadata": {},
      "outputs": [
        {
          "data": {
            "text/plain": [
              "[15923426.455161672,\n",
              " 15923426.45516073,\n",
              " 15923426.455159828,\n",
              " 15923426.455158956,\n",
              " 15923426.4551581,\n",
              " 15923426.455157256,\n",
              " 15923426.455156418,\n",
              " 15923426.45515559,\n",
              " 15923426.455154762,\n",
              " 15923426.455153942,\n",
              " 15923426.455153123,\n",
              " 15923426.455152305,\n",
              " 15923426.455151487,\n",
              " 15923426.455150673,\n",
              " 15923426.455149861,\n",
              " 15923426.455149047,\n",
              " 15923426.455148239,\n",
              " 15923426.455147427,\n",
              " 15923426.455146614,\n",
              " 15923426.455145808]"
            ]
          },
          "execution_count": 27,
          "metadata": {},
          "output_type": "execute_result"
        }
      ],
      "source": [
        "test.loss_history[-20:]"
      ]
    },
    {
      "cell_type": "markdown",
      "id": "db0f5481",
      "metadata": {},
      "source": [
        "Числа очень большие, но это видимо так и должно быть. Внизу сравнение с библиотечной реализацией"
      ]
    },
    {
      "cell_type": "code",
      "execution_count": 29,
      "id": "74bd7c97",
      "metadata": {},
      "outputs": [
        {
          "name": "stderr",
          "output_type": "stream",
          "text": [
            "d:\\Programming\\Anaconda\\envs\\ds\\Lib\\site-packages\\sklearn\\neural_network\\_multilayer_perceptron.py:1650: DataConversionWarning: A column-vector y was passed when a 1d array was expected. Please change the shape of y to (n_samples, ), for example using ravel().\n",
            "  y = column_or_1d(y, warn=True)\n",
            "d:\\Programming\\Anaconda\\envs\\ds\\Lib\\site-packages\\sklearn\\neural_network\\_multilayer_perceptron.py:691: ConvergenceWarning: Stochastic Optimizer: Maximum iterations (100) reached and the optimization hasn't converged yet.\n",
            "  warnings.warn(\n"
          ]
        }
      ],
      "source": [
        "from sklearn.neural_network import MLPRegressor as sck\n",
        "\n",
        "test2 = sck((100, 50, 10), activation=\"logistic\", max_iter=100).fit(X_train, y_train)"
      ]
    },
    {
      "cell_type": "markdown",
      "id": "7442dbec",
      "metadata": {},
      "source": [
        "Посмотрим лосс у неё"
      ]
    },
    {
      "cell_type": "code",
      "execution_count": 30,
      "id": "c455037b",
      "metadata": {},
      "outputs": [
        {
          "data": {
            "image/png": "[encoded data removed]",
            "text/plain": [
              "<Figure size 640x480 with 1 Axes>"
            ]
          },
          "metadata": {},
          "output_type": "display_data"
        }
      ],
      "source": [
        "plt.plot(list(range(len(test2.loss_curve_))), test2.loss_curve_, color=\"purple\")\n",
        "plt.grid()\n",
        "plt.show()"
      ]
    },
    {
      "cell_type": "code",
      "execution_count": 31,
      "id": "83342b39",
      "metadata": {},
      "outputs": [
        {
          "data": {
            "text/plain": [
              "[15757050.458239459,\n",
              " 15750474.239734603,\n",
              " 15745047.261321176,\n",
              " 15739716.997963915,\n",
              " 15734433.492735943,\n",
              " 15729173.37903772,\n",
              " 15722213.609662905,\n",
              " 15715184.313336313,\n",
              " 15708761.407677522,\n",
              " 15702517.69990569,\n",
              " 15696370.208255332,\n",
              " 15690284.155172935,\n",
              " 15684241.515969673,\n",
              " 15678227.555992508,\n",
              " 15672236.503262145,\n",
              " 15666262.309879329,\n",
              " 15660304.132702172,\n",
              " 15654359.454627013,\n",
              " 15648424.031638956,\n",
              " 15642497.042394381,\n",
              " 15636576.029093178,\n",
              " 15630662.725242218,\n",
              " 15624755.205061162,\n",
              " 15618851.393298514,\n",
              " 15612953.069531525,\n",
              " 15607059.460005546,\n",
              " 15601169.789353574,\n",
              " 15595281.948790124,\n",
              " 15589393.695703346,\n",
              " 15583510.228493595,\n",
              " 15577630.972314991,\n",
              " 15571757.605040738,\n",
              " 15565886.506249694,\n",
              " 15560017.838300768,\n",
              " 15554149.830285225,\n",
              " 15548281.065623991,\n",
              " 15542417.071054308,\n",
              " 15536558.008331165,\n",
              " 15530701.378621895,\n",
              " 15524727.516877681,\n",
              " 15516191.761713183,\n",
              " 15508539.583562793,\n",
              " 15501403.249154001,\n",
              " 15494457.667057388,\n",
              " 15487619.800079828,\n",
              " 15480854.707232663,\n",
              " 15474137.593832703,\n",
              " 15467456.480407244,\n",
              " 15460803.525564585,\n",
              " 15454173.061994528,\n",
              " 15447561.164914021,\n",
              " 15440963.107543392,\n",
              " 15434378.60568782,\n",
              " 15427803.899880895,\n",
              " 15421240.40234422,\n",
              " 15414681.96463992,\n",
              " 15408129.428209236,\n",
              " 15401582.219396034,\n",
              " 15395041.142072761,\n",
              " 15388507.24063089,\n",
              " 15381978.898992416,\n",
              " 15375454.907972725,\n",
              " 15368933.352282789,\n",
              " 15362416.283358695,\n",
              " 15355902.26445116,\n",
              " 15349392.52669441,\n",
              " 15342885.820970267,\n",
              " 15336379.230212828,\n",
              " 15329875.1899753,\n",
              " 15323377.403296411,\n",
              " 15316882.792035218,\n",
              " 15310391.926337052,\n",
              " 15303905.708473576,\n",
              " 15297420.261465218,\n",
              " 15290936.88620627,\n",
              " 15284455.498012124,\n",
              " 15277978.812163262,\n",
              " 15271504.823525328,\n",
              " 15265033.700431926,\n",
              " 15258566.27183884]"
            ]
          },
          "execution_count": 31,
          "metadata": {},
          "output_type": "execute_result"
        }
      ],
      "source": [
        "test2.loss_curve_[:-20]"
      ]
    },
    {
      "cell_type": "markdown",
      "id": "554a0715",
      "metadata": {},
      "source": [
        "Кривая выглядит немного иначе из-за более продвинутого оптимизатора в библиотечной реализации. Но проблема та же, лосс остаётся таким же."
      ]
    },
    {
      "cell_type": "markdown",
      "id": "1f563a3e",
      "metadata": {},
      "source": [
        "На и на последок диаграмма"
      ]
    },
    {
      "cell_type": "code",
      "execution_count": 32,
      "id": "24ee26e7",
      "metadata": {},
      "outputs": [
        {
          "name": "stderr",
          "output_type": "stream",
          "text": [
            "C:\\Users\\HONOR\\AppData\\Local\\Temp\\ipykernel_20864\\778110189.py:37: RuntimeWarning: overflow encountered in exp\n",
            "  return 1 / (1 + np.exp(-X))\n"
          ]
        }
      ],
      "source": [
        "y_pred = test.predict(X_test)"
      ]
    },
    {
      "cell_type": "code",
      "execution_count": 33,
      "id": "64941926",
      "metadata": {},
      "outputs": [],
      "source": [
        "score = r2_score(y_pred, y_test)"
      ]
    },
    {
      "cell_type": "code",
      "execution_count": null,
      "id": "7ef6ac22",
      "metadata": {},
      "outputs": [
        {
          "data": {
            "image/png": "[encoded data removed]",
            "text/plain": [
              "<Figure size 640x480 with 1 Axes>"
            ]
          },
          "metadata": {},
          "output_type": "display_data"
        }
      ],
      "source": [
        "plt.title(f'R2: {str(score)[:5]}')\n",
        "plt.hist(y_pred.reshape(1, -1)[0], bins=100, label='PREDICTION')\n",
        "plt.hist(y_test.reshape(1, -1)[0], bins=100, label='GT', alpha=0.3)\n",
        "plt.legend()\n",
        "plt.grid()\n",
        "plt.show()"
      ]
    },
    {
      "cell_type": "code",
      "execution_count": 35,
      "id": "fabbcc78",
      "metadata": {},
      "outputs": [
        {
          "data": {
            "image/png": "[encoded data removed]",
            "text/plain": [
              "<Figure size 640x480 with 1 Axes>"
            ]
          },
          "metadata": {},
          "output_type": "display_data"
        }
      ],
      "source": [
        "plt.title(f'R2: {str(score)[:5]}')\n",
        "plt.hist(y_pred.reshape(1, -1)[0], bins=100, label='PREDICTION')\n",
        "plt.legend()\n",
        "plt.grid()\n",
        "plt.show()"
      ]
    },
    {
      "cell_type": "code",
      "execution_count": null,
      "id": "312d8a37",
      "metadata": {},
      "outputs": [],
      "source": []
    }
  ],
  "metadata": {
    "colab": {
      "provenance": []
    },
    "kernelspec": {
      "display_name": "ds",
      "language": "python",
      "name": "python3"
    },
    "language_info": {
      "codemirror_mode": {
        "name": "ipython",
        "version": 3
      },
      "file_extension": ".py",
      "mimetype": "text/x-python",
      "name": "python",
      "nbconvert_exporter": "python",
      "pygments_lexer": "ipython3",
      "version": "3.11.11"
    }
  },
  "nbformat": 4,
  "nbformat_minor": 5
}
